{
 "cells": [
  {
   "cell_type": "code",
   "execution_count": 4,
   "metadata": {},
   "outputs": [],
   "source": [
    "import mysql.connector\n",
    "import pandas as pd\n",
    "connection = mysql.connector.connect(\n",
    "  host = 'localhost',\n",
    "  user = 'root',\n",
    "  password = \"\",\n",
    "  database = \"Stocks\"\n",
    ")"
   ]
  },
  {
   "cell_type": "code",
   "execution_count": 5,
   "metadata": {},
   "outputs": [
    {
     "name": "stderr",
     "output_type": "stream",
     "text": [
      "/var/folders/68/r33mcwkd1jv5vbz38137wlbw0000gn/T/ipykernel_887/1872133861.py:15: UserWarning: pandas only supports SQLAlchemy connectable (engine/connection) or database string URI or sqlite3 DBAPI2 connection. Other DBAPI2 objects are not tested. Please consider using SQLAlchemy.\n",
      "  df = pd.read_sql(query, connection)\n"
     ]
    },
    {
     "name": "stdout",
     "output_type": "stream",
     "text": [
      "4369\n"
     ]
    }
   ],
   "source": [
    "query = '''\n",
    "SELECT DISTINCT\n",
    "    symbol,\n",
    "    adtv\n",
    "FROM\n",
    "    stock_prices\n",
    "Where adtv > 100000\n",
    "\n",
    "GROUP BY\n",
    "    symbol, adtv;\n",
    "'''\n",
    "\n",
    "\n",
    "# Execute the query and store the result in a pandas DataFrame\n",
    "df = pd.read_sql(query, connection)\n",
    "\n",
    "# Close the database connection\n",
    "connection.close()\n",
    "adtv_dict = df.set_index('symbol')['adtv'].to_dict()\n",
    "\n",
    "print(len(adtv_dict))\n",
    "\n",
    "df.to_csv('mid_volume_stocks.csv', index=False)"
   ]
  },
  {
   "cell_type": "code",
   "execution_count": 10,
   "metadata": {},
   "outputs": [],
   "source": [
    "from wb_user import wb_user\n",
    "from update_database import *\n",
    "import pandas\n",
    "\n"
   ]
  },
  {
   "cell_type": "code",
   "execution_count": 26,
   "metadata": {},
   "outputs": [
    {
     "data": {
      "text/plain": [
       "False"
      ]
     },
     "execution_count": 26,
     "metadata": {},
     "output_type": "execute_result"
    }
   ],
   "source": [
    "csv_list = pandas.read_csv('../Data/mid_volume_stocks.csv', keep_default_na=False)\n",
    "stock_list = csv_list[csv_list.columns[0]]\n",
    "\n",
    "long_stock_dic, short_stock_dic = {}, {}\n",
    "trade_token = '33544523'\n",
    "#for key in long_stock_list: long_stock_dic[key] = 0\n",
    "short_stock_dic = {key: 0 for key in stock_list}\n",
    "short_user = wb_user(json_path = \"../Class/webull_credentials.json\", stock_dic = short_stock_dic, is_pwb = False)\n",
    "short_user.login_wb(trade_token)\n",
    "short_user.wb.get_account_id()\n",
    "\n",
    "short_user.wb.get_trade_token(trade_token)\n",
    "# short_user.wb.get_account()\n",
    "# short_user.wb.place_order(stock = 'CX', action = \"SELL\", orderType = \"MKT\", enforce = \"DAY\", quant = 1)"
   ]
  },
  {
   "cell_type": "code",
   "execution_count": 24,
   "metadata": {},
   "outputs": [
    {
     "data": {
      "text/plain": [
       "{'msg': 'Your session has expired, please login again.',\n",
       " 'traceId': 'f4eecf012463416ba92a0fb3d9f4228e',\n",
       " 'code': 'trade.token.expire',\n",
       " 'data': {},\n",
       " 'success': False}"
      ]
     },
     "execution_count": 24,
     "metadata": {},
     "output_type": "execute_result"
    }
   ],
   "source": [
    "short_user.wb.get_trade_token(trade_token)\n",
    "# short_user.wb.get_account()\n",
    "short_user.wb.place_order(stock = 'CX', action = \"SELL\", orderType = \"MKT\", enforce = \"DAY\", quant = 1)"
   ]
  },
  {
   "cell_type": "code",
   "execution_count": 36,
   "metadata": {},
   "outputs": [],
   "source": [
    "import robin_stocks as r\n",
    "import time as t"
   ]
  },
  {
   "cell_type": "code",
   "execution_count": 55,
   "metadata": {},
   "outputs": [
    {
     "name": "stdout",
     "output_type": "stream",
     "text": [
      "<Response [201]>\n",
      "<Response [201]>\n",
      "<Response [201]>\n",
      "<Response [201]>\n",
      "<Response [201]>\n",
      "<Response [201]>\n",
      "<Response [201]>\n",
      "<Response [201]>\n",
      "<Response [201]>\n",
      "<Response [201]>\n",
      "6.02231764793396\n"
     ]
    }
   ],
   "source": [
    "username = \"wzongshuo@gmail.com\"\n",
    "pswd = \"wzs33544523\"\n",
    "login = r.robinhood.authentication.login(username, pswd, store_session=True)\n",
    "\n",
    "def buy_doge():\n",
    "    order = r.robinhood.orders.order_crypto(symbol = \"DOGE\", side = \"buy\", quantityOrPrice = 1, amountIn = 'quantity', timeInForce=\"gtc\", jsonify=False)\n",
    "    print(order)\n",
    "    attempts = 0\n",
    "    while order.status_code != 201 and attempts < 3:\n",
    "        order = r.robinhood.orders.order_crypto(symbol = \"DOGE\", side = \"buy\", quantityOrPrice = 1, amountIn = 'quantity', timeInForce=\"gtc\", jsonify=False)\n",
    "        print(order)\n",
    "        attempts += 1\n",
    "    if attempts == 10:\n",
    "        print(f\"ERROR CODE: {order.status_code}\")\n",
    "\n",
    "def sell_doge():\n",
    "    order = r.robinhood.orders.order_crypto(symbol = \"DOGE\", side = \"sell\", quantityOrPrice = 1, amountIn = 'quantity', timeInForce=\"gtc\", jsonify=False)\n",
    "    print(order)\n",
    "    attempts = 0\n",
    "    while order.status_code != 201 and attempts < 3:\n",
    "        order = r.robinhood.orders.order_crypto(symbol = \"DOGE\", side = \"sell\", quantityOrPrice = 1, amountIn = 'quantity', timeInForce=\"gtc\", jsonify=False)\n",
    "        print(order)\n",
    "        attempts += 1\n",
    "    if attempts == 10:\n",
    "        print(f\"ERROR CODE: {order.status_code}\")\n",
    "\n",
    "\n",
    "start = t.time()\n",
    "\n",
    "buy_doge()\n",
    "buy_doge()\n",
    "buy_doge()\n",
    "buy_doge()\n",
    "buy_doge()\n",
    "\n",
    "sell_doge()\n",
    "sell_doge()\n",
    "sell_doge()\n",
    "sell_doge()\n",
    "sell_doge()\n",
    "\n",
    "end = t.time()\n",
    "print(end - start)\n",
    "\n",
    "  "
   ]
  },
  {
   "cell_type": "code",
   "execution_count": 302,
   "metadata": {},
   "outputs": [
    {
     "name": "stdout",
     "output_type": "stream",
     "text": [
      "KeyError: 'XXXXCXSDS'\n"
     ]
    }
   ],
   "source": [
    "from alpaca.data.historical import StockHistoricalDataClient\n",
    "from alpaca.data.requests import StockLatestQuoteRequest\n",
    "\n",
    "# no keys required\n",
    "client = StockHistoricalDataClient(api_key='AKCPHMFBTAGLC1W75ZFZ',secret_key='2h25Fae1Qdp5xELj92UliIOjWSeFmms1035byDWx')\n",
    "\n",
    "# single symbol request\n",
    "request_params = StockLatestQuoteRequest(symbol_or_symbols=\"RBLX\")\n",
    "\n",
    "latest_quote = client.get_stock_latest_quote(request_params)\n",
    "\n",
    "# must use symbol to access even though it is single symbol\n",
    "try:\n",
    "    latest_quote[\"XXXXCXSDS\"]\n",
    "except KeyError:\n",
    "    print(\"KeyError: 'XXXXCXSDS'\")"
   ]
  },
  {
   "cell_type": "code",
   "execution_count": 294,
   "metadata": {},
   "outputs": [
    {
     "name": "stdout",
     "output_type": "stream",
     "text": [
      "id=UUID('49bc44be-fc25-4c73-8266-3b569d01ca0d') client_order_id='f1df53c2-4fc2-465f-aff1-75c4d88c57d5' created_at=datetime.datetime(2023, 4, 4, 19, 57, 23, 528131, tzinfo=datetime.timezone.utc) updated_at=datetime.datetime(2023, 4, 4, 19, 57, 23, 528209, tzinfo=datetime.timezone.utc) submitted_at=datetime.datetime(2023, 4, 4, 19, 57, 23, 527691, tzinfo=datetime.timezone.utc) filled_at=None expired_at=None canceled_at=None failed_at=None replaced_at=None replaced_by=None replaces=None asset_id=UUID('b28f4066-5c6d-479b-a2af-85dc1a8f16fb') symbol='SPY' asset_class=<AssetClass.US_EQUITY: 'us_equity'> notional=None qty='0.023' filled_qty='0' filled_avg_price=None order_class=<OrderClass.SIMPLE: 'simple'> order_type=<OrderType.MARKET: 'market'> type=<OrderType.MARKET: 'market'> side=<OrderSide.SELL: 'sell'> time_in_force=<TimeInForce.DAY: 'day'> limit_price=None stop_price=None status=<OrderStatus.PENDING_NEW: 'pending_new'> extended_hours=False legs=None trail_percent=None trail_price=None hwm=None\n",
      "0.09570884704589844\n"
     ]
    }
   ],
   "source": [
    "from alpaca.trading.client import TradingClient\n",
    "from alpaca.trading.requests import MarketOrderRequest\n",
    "from alpaca.trading.enums import OrderSide, TimeInForce\n",
    "import time as t\n",
    "\n",
    "trading_client = TradingClient(api_key='PKK39P5VICT9KI7CKQ7M',secret_key='0edi2AZ2wlr8ri8FvRC2LbpGOwt7TE9Yg3UokBwP', paper=True)\n",
    "\n",
    "# preparing orders\n",
    "market_order_data = MarketOrderRequest(\n",
    "                    symbol=\"SPY\",\n",
    "                    qty=0.023,\n",
    "                    side=OrderSide.BUY,\n",
    "                    time_in_force=TimeInForce.DAY\n",
    "                    )\n",
    "\n",
    "market_order_data_sell = MarketOrderRequest(\n",
    "                    symbol=\"SPY\",\n",
    "                    qty=0.023,\n",
    "                    side=OrderSide.SELL,\n",
    "                    time_in_force=TimeInForce.DAY\n",
    "                    )\n",
    "start = t.time()\n",
    "# Market order\n",
    "market_order = trading_client.submit_order(\n",
    "                order_data=market_order_data\n",
    "               )\n",
    "market_order = trading_client.submit_order(\n",
    "                order_data=market_order_data_sell\n",
    "               )\n",
    "end = t.time()\n",
    "print(market_order)\n",
    "print(end-start)"
   ]
  },
  {
   "cell_type": "code",
   "execution_count": 7,
   "metadata": {},
   "outputs": [
    {
     "ename": "SyntaxError",
     "evalue": "invalid syntax (1816225690.py, line 8)",
     "output_type": "error",
     "traceback": [
      "\u001b[0;36m  Cell \u001b[0;32mIn[7], line 8\u001b[0;36m\u001b[0m\n\u001b[0;31m    valid_stocks = []\u001b[0m\n\u001b[0m    ^\u001b[0m\n\u001b[0;31mSyntaxError\u001b[0m\u001b[0;31m:\u001b[0m invalid syntax\n"
     ]
    }
   ],
   "source": [
    "import csv\n",
    "from alpaca.trading.client import TradingClient\n",
    "from alpaca.trading.requests import GetAssetsRequest\n",
    "from alpaca.trading.enums import AssetClass\n",
    "\n",
    "# no keys required\n",
    "client = TradingClient(api_key='AKCPHMFBTAGLC1W75ZFZ',secret_key='2h25Fae1Qdp5xELj92UliIOjWSeFmms1035byDWx', paper=False)\n",
    "valid_stocks = []\n",
    "\n",
    "search_params = GetAssetsRequest(asset_class=AssetClass.US_EQUITY)\n",
    "\n",
    "assets = client.get_all_assets(search_params)\n",
    "print(assets)\n",
    "# Write valid stock symbols and their prices to a new CSV file\n",
    "# valid_stocks_df = pd.DataFrame(valid_stocks)\n",
    "# valid_stocks_df.to_csv(\"valid_stock.csv\", index=False)"
   ]
  }
 ],
 "metadata": {
  "kernelspec": {
   "display_name": "Python 3.9.6 64-bit",
   "language": "python",
   "name": "python3"
  },
  "language_info": {
   "codemirror_mode": {
    "name": "ipython",
    "version": 3
   },
   "file_extension": ".py",
   "mimetype": "text/x-python",
   "name": "python",
   "nbconvert_exporter": "python",
   "pygments_lexer": "ipython3",
   "version": "3.9.6"
  },
  "orig_nbformat": 4,
  "vscode": {
   "interpreter": {
    "hash": "31f2aee4e71d21fbe5cf8b01ff0e069b9275f58929596ceb00d14d90e3e16cd6"
   }
  }
 },
 "nbformat": 4,
 "nbformat_minor": 2
}
